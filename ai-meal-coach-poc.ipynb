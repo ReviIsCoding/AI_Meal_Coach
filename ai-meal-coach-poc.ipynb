{
 "cells": [
  {
   "cell_type": "markdown",
   "id": "e84b0bde",
   "metadata": {
    "papermill": {
     "duration": 0.009764,
     "end_time": "2025-04-14T20:14:23.107155",
     "exception": false,
     "start_time": "2025-04-14T20:14:23.097391",
     "status": "completed"
    },
    "tags": []
   },
   "source": [
    "# AI Meal Coach: Health-Aware AI Meal Planner\n",
    "* A GenAI-powered agent that helps you plan healthy meals based on your dietary needs and fridge contents."
   ]
  },
  {
   "cell_type": "markdown",
   "id": "2b750fbc",
   "metadata": {
    "papermill": {
     "duration": 0.008551,
     "end_time": "2025-04-14T20:14:23.125387",
     "exception": false,
     "start_time": "2025-04-14T20:14:23.116836",
     "status": "completed"
    },
    "tags": []
   },
   "source": [
    "# AI Meal Coach: Health-Aware AI Meal Planner\n",
    "*A GenAI-powered agent that helps you plan healthy meals based on your dietary needs and fridge contents.*\n",
    "\n",
    "---\n",
    "\n",
    "## 🧠 1. Project Overview\n",
    "\n",
    "This notebook presents a generative AI agent that recommends recipes tailored to your dietary restrictions and available ingredients.  \n",
    "Users can input what they have in their fridge, specify a health profile (e.g., Hashimoto, diabetes), and receive meal suggestions that match both.\n",
    "\n",
    "**Key GenAI capabilities demonstrated:**\n",
    "- Retrieval-Augmented Generation (RAG)\n",
    "- Health-aware reasoning with Chain-of-Thought\n",
    "- AI-based recipe adaptation and explanation\n",
    "\n"
   ]
  },
  {
   "cell_type": "markdown",
   "id": "ded9afbc",
   "metadata": {
    "papermill": {
     "duration": 0.008418,
     "end_time": "2025-04-14T20:14:23.142870",
     "exception": false,
     "start_time": "2025-04-14T20:14:23.134452",
     "status": "completed"
    },
    "tags": []
   },
   "source": [
    "\n",
    "## 📦 2. Ingredients: Dataset and Setup\n",
    "\n",
    "### 2.1 Import libraries and install dependencies\n",
    "\n",
    "```python\n",
    "# TODO: install langchain, faiss, google-generativeai, etc.\n",
    "# TODO: import pandas, numpy, json, relevant thing from langchain, etc."
   ]
  },
  {
   "cell_type": "code",
   "execution_count": 1,
   "id": "7ade9bcf",
   "metadata": {
    "execution": {
     "iopub.execute_input": "2025-04-14T20:14:23.162096Z",
     "iopub.status.busy": "2025-04-14T20:14:23.161512Z",
     "iopub.status.idle": "2025-04-14T20:15:19.544976Z",
     "shell.execute_reply": "2025-04-14T20:15:19.543428Z"
    },
    "papermill": {
     "duration": 56.396208,
     "end_time": "2025-04-14T20:15:19.547607",
     "exception": false,
     "start_time": "2025-04-14T20:14:23.151399",
     "status": "completed"
    },
    "tags": []
   },
   "outputs": [
    {
     "name": "stdout",
     "output_type": "stream",
     "text": [
      "\u001b[33mWARNING: Skipping kfp as it is not installed.\u001b[0m\u001b[33m\r\n",
      "\u001b[2K   \u001b[90m━━━━━━━━━━━━━━━━━━━━━━━━━━━━━━━━━━━━━━━━\u001b[0m \u001b[32m175.4/175.4 kB\u001b[0m \u001b[31m4.2 MB/s\u001b[0m eta \u001b[36m0:00:00\u001b[0m\r\n",
      "\u001b[2K   \u001b[90m━━━━━━━━━━━━━━━━━━━━━━━━━━━━━━━━━━━━━━━━\u001b[0m \u001b[32m1.3/1.3 MB\u001b[0m \u001b[31m30.8 MB/s\u001b[0m eta \u001b[36m0:00:00\u001b[0m\r\n",
      "\u001b[2K   \u001b[90m━━━━━━━━━━━━━━━━━━━━━━━━━━━━━━━━━━━━━━━━\u001b[0m \u001b[32m179.6/179.6 kB\u001b[0m \u001b[31m4.5 MB/s\u001b[0m eta \u001b[36m0:00:00\u001b[0m\r\n",
      "\u001b[2K   \u001b[90m━━━━━━━━━━━━━━━━━━━━━━━━━━━━━━━━━━━━━━━━\u001b[0m \u001b[32m30.7/30.7 MB\u001b[0m \u001b[31m46.4 MB/s\u001b[0m eta \u001b[36m0:00:00\u001b[0m\r\n",
      "\u001b[?25h\u001b[31mERROR: pip's dependency resolver does not currently take into account all the packages that are installed. This behaviour is the source of the following dependency conflicts.\r\n",
      "bigframes 1.29.0 requires google-cloud-bigquery[bqstorage,pandas]>=3.16.0, which is not installed.\u001b[0m\u001b[31m\r\n",
      "\u001b[2K   \u001b[90m━━━━━━━━━━━━━━━━━━━━━━━━━━━━━━━━━━━━━━━━\u001b[0m \u001b[32m42.0/42.0 kB\u001b[0m \u001b[31m1.2 MB/s\u001b[0m eta \u001b[36m0:00:00\u001b[0m\r\n",
      "\u001b[2K   \u001b[90m━━━━━━━━━━━━━━━━━━━━━━━━━━━━━━━━━━━━━━━━\u001b[0m \u001b[32m1.4/1.4 MB\u001b[0m \u001b[31m26.3 MB/s\u001b[0m eta \u001b[36m0:00:00\u001b[0m\r\n",
      "\u001b[2K   \u001b[90m━━━━━━━━━━━━━━━━━━━━━━━━━━━━━━━━━━━━━━━━\u001b[0m \u001b[32m423.3/423.3 kB\u001b[0m \u001b[31m18.1 MB/s\u001b[0m eta \u001b[36m0:00:00\u001b[0m\r\n",
      "\u001b[?25h\u001b[31mERROR: pip's dependency resolver does not currently take into account all the packages that are installed. This behaviour is the source of the following dependency conflicts.\r\n",
      "google-generativeai 0.8.4 requires google-ai-generativelanguage==0.6.15, but you have google-ai-generativelanguage 0.6.17 which is incompatible.\r\n",
      "langchain 0.3.12 requires async-timeout<5.0.0,>=4.0.0; python_version < \"3.11\", but you have async-timeout 5.0.1 which is incompatible.\u001b[0m\u001b[31m\r\n",
      "\u001b[2K     \u001b[90m━━━━━━━━━━━━━━━━━━━━━━━━━━━━━━━━━━━━━━━━\u001b[0m \u001b[32m43.5/43.5 kB\u001b[0m \u001b[31m1.6 MB/s\u001b[0m eta \u001b[36m0:00:00\u001b[0m\r\n",
      "\u001b[2K   \u001b[90m━━━━━━━━━━━━━━━━━━━━━━━━━━━━━━━━━━━━━━━━\u001b[0m \u001b[32m144.7/144.7 kB\u001b[0m \u001b[31m6.2 MB/s\u001b[0m eta \u001b[36m0:00:00\u001b[0m\r\n",
      "\u001b[2K   \u001b[90m━━━━━━━━━━━━━━━━━━━━━━━━━━━━━━━━━━━━━━━━\u001b[0m \u001b[32m42.0/42.0 kB\u001b[0m \u001b[31m1.9 MB/s\u001b[0m eta \u001b[36m0:00:00\u001b[0m\r\n",
      "\u001b[2K   \u001b[90m━━━━━━━━━━━━━━━━━━━━━━━━━━━━━━━━━━━━━━━━\u001b[0m \u001b[32m47.2/47.2 kB\u001b[0m \u001b[31m1.9 MB/s\u001b[0m eta \u001b[36m0:00:00\u001b[0m\r\n",
      "\u001b[2K   \u001b[90m━━━━━━━━━━━━━━━━━━━━━━━━━━━━━━━━━━━━━━━━\u001b[0m \u001b[32m223.6/223.6 kB\u001b[0m \u001b[31m10.4 MB/s\u001b[0m eta \u001b[36m0:00:00\u001b[0m\r\n",
      "\u001b[?25h"
     ]
    }
   ],
   "source": [
    "!pip uninstall -qqy kfp jupyterlab libpysal thinc spacy fastai ydata-profiling google-cloud-bigquery google-generativeai\n",
    "!pip install -qU google-generativeai \n",
    "!pip install -qU faiss-cpu fsspec==2024.10.0 gcsfs==2024.10.0\n",
    "!pip install -qU langchain-google-genai  \n",
    "!pip install -qU langgraph\n",
    "!pip install -qU langgraph-prebuilt \n",
    "#!pip check # weryfikacja pakietów\n",
    "\n",
    "# # Remove conflicting packages from the Kaggle base environment.\n",
    "# !pip uninstall -qqy kfp jupyterlab libpysal thinc spacy fastai ydata-profiling google-cloud-bigquery google-generativeai\n",
    "# # Install langgraph and the packages used in this lab.\n",
    "# !pip install -qU 'langgraph==0.3.21' 'langchain-google-genai==2.1.2' 'langgraph-prebuilt==0.1.7'"
   ]
  },
  {
   "cell_type": "code",
   "execution_count": 2,
   "id": "f4a113a6",
   "metadata": {
    "execution": {
     "iopub.execute_input": "2025-04-14T20:15:19.570565Z",
     "iopub.status.busy": "2025-04-14T20:15:19.570188Z",
     "iopub.status.idle": "2025-04-14T20:15:22.470903Z",
     "shell.execute_reply": "2025-04-14T20:15:22.469358Z"
    },
    "papermill": {
     "duration": 2.915258,
     "end_time": "2025-04-14T20:15:22.473572",
     "exception": false,
     "start_time": "2025-04-14T20:15:19.558314",
     "status": "completed"
    },
    "tags": []
   },
   "outputs": [],
   "source": [
    "# necessary imports\n",
    "import pandas as pd\n",
    "import google.generativeai as genai\n",
    "import json\n",
    "import numpy as np\n",
    "from tqdm import tqdm\n",
    "import faiss\n",
    "from typing import TypedDict, List, Optional\n",
    "import logging"
   ]
  },
  {
   "cell_type": "code",
   "execution_count": 3,
   "id": "63d47d88",
   "metadata": {
    "_cell_guid": "b1076dfc-b9ad-4769-8c92-a6c4dae69d19",
    "_uuid": "8f2839f25d086af736a60e9eeb907d3b93b6e0e5",
    "execution": {
     "iopub.execute_input": "2025-04-14T20:15:22.495944Z",
     "iopub.status.busy": "2025-04-14T20:15:22.495271Z",
     "iopub.status.idle": "2025-04-14T20:15:22.518501Z",
     "shell.execute_reply": "2025-04-14T20:15:22.517069Z"
    },
    "papermill": {
     "duration": 0.036889,
     "end_time": "2025-04-14T20:15:22.520762",
     "exception": false,
     "start_time": "2025-04-14T20:15:22.483873",
     "status": "completed"
    },
    "tags": []
   },
   "outputs": [
    {
     "name": "stdout",
     "output_type": "stream",
     "text": [
      "/kaggle/input/epirecipes/recipe.py\n",
      "/kaggle/input/epirecipes/utils.py\n",
      "/kaggle/input/epirecipes/full_format_recipes.json\n",
      "/kaggle/input/epirecipes/epi_r.csv\n"
     ]
    }
   ],
   "source": [
    "import os\n",
    "for dirname, _, filenames in os.walk('/kaggle/input'):\n",
    "    for filename in filenames:\n",
    "        print(os.path.join(dirname, filename))"
   ]
  },
  {
   "cell_type": "code",
   "execution_count": 4,
   "id": "1b110aaa",
   "metadata": {
    "execution": {
     "iopub.execute_input": "2025-04-14T20:15:22.542454Z",
     "iopub.status.busy": "2025-04-14T20:15:22.541954Z",
     "iopub.status.idle": "2025-04-14T20:15:22.776638Z",
     "shell.execute_reply": "2025-04-14T20:15:22.774970Z"
    },
    "papermill": {
     "duration": 0.247761,
     "end_time": "2025-04-14T20:15:22.778737",
     "exception": false,
     "start_time": "2025-04-14T20:15:22.530976",
     "status": "completed"
    },
    "tags": []
   },
   "outputs": [
    {
     "name": "stdout",
     "output_type": "stream",
     "text": [
      "done\n"
     ]
    }
   ],
   "source": [
    "from kaggle_secrets import UserSecretsClient\n",
    "user_secrets = UserSecretsClient()\n",
    "GOOGLE_API_KEY = user_secrets.get_secret(\"GOOGLE_API_KEY\")\n",
    "\n",
    "genai.configure(api_key=GOOGLE_API_KEY)\n",
    "print(\"done\")"
   ]
  },
  {
   "cell_type": "markdown",
   "id": "781946fe",
   "metadata": {
    "papermill": {
     "duration": 0.010375,
     "end_time": "2025-04-14T20:15:22.799836",
     "exception": false,
     "start_time": "2025-04-14T20:15:22.789461",
     "status": "completed"
    },
    "tags": []
   },
   "source": [
    "### 2.2 Load recipe datasets"
   ]
  },
  {
   "cell_type": "code",
   "execution_count": 5,
   "id": "86f6daad",
   "metadata": {
    "execution": {
     "iopub.execute_input": "2025-04-14T20:15:22.822773Z",
     "iopub.status.busy": "2025-04-14T20:15:22.822376Z",
     "iopub.status.idle": "2025-04-14T20:15:23.884525Z",
     "shell.execute_reply": "2025-04-14T20:15:23.883165Z"
    },
    "papermill": {
     "duration": 1.076607,
     "end_time": "2025-04-14T20:15:23.887068",
     "exception": false,
     "start_time": "2025-04-14T20:15:22.810461",
     "status": "completed"
    },
    "tags": []
   },
   "outputs": [],
   "source": [
    "# === EPICURIOUS ===\n",
    "epicurious_path = \"/kaggle/input/epirecipes/full_format_recipes.json\"\n",
    "with open(epicurious_path, \"r\") as f:\n",
    "    epicurious_raw = json.load(f)\n",
    "    \n",
    "df_epi = pd.DataFrame(epicurious_raw)"
   ]
  },
  {
   "cell_type": "code",
   "execution_count": 6,
   "id": "79d005c7",
   "metadata": {
    "execution": {
     "iopub.execute_input": "2025-04-14T20:15:23.910277Z",
     "iopub.status.busy": "2025-04-14T20:15:23.909787Z",
     "iopub.status.idle": "2025-04-14T20:15:23.916634Z",
     "shell.execute_reply": "2025-04-14T20:15:23.914632Z"
    },
    "papermill": {
     "duration": 0.020916,
     "end_time": "2025-04-14T20:15:23.919008",
     "exception": false,
     "start_time": "2025-04-14T20:15:23.898092",
     "status": "completed"
    },
    "tags": []
   },
   "outputs": [
    {
     "name": "stdout",
     "output_type": "stream",
     "text": [
      "Epicurious columns: ['directions', 'fat', 'date', 'categories', 'calories', 'desc', 'protein', 'rating', 'title', 'ingredients', 'sodium']\n"
     ]
    }
   ],
   "source": [
    "print(\"Epicurious columns:\", df_epi.columns.tolist())"
   ]
  },
  {
   "cell_type": "code",
   "execution_count": 7,
   "id": "e0dc2c4c",
   "metadata": {
    "execution": {
     "iopub.execute_input": "2025-04-14T20:15:23.942948Z",
     "iopub.status.busy": "2025-04-14T20:15:23.942534Z",
     "iopub.status.idle": "2025-04-14T20:15:24.007486Z",
     "shell.execute_reply": "2025-04-14T20:15:24.005970Z"
    },
    "papermill": {
     "duration": 0.078519,
     "end_time": "2025-04-14T20:15:24.009766",
     "exception": false,
     "start_time": "2025-04-14T20:15:23.931247",
     "status": "completed"
    },
    "tags": []
   },
   "outputs": [],
   "source": [
    "\n",
    "df_epi[\"ingredients\"] = df_epi[\"ingredients\"].apply(lambda x: \", \".join(x) if isinstance(x, list) else \"\")\n",
    "df_epi[\"text_for_embedding\"] = df_epi[\"title\"] + \". Ingredients: \" + df_epi[\"ingredients\"]"
   ]
  },
  {
   "cell_type": "code",
   "execution_count": 8,
   "id": "7c295d10",
   "metadata": {
    "execution": {
     "iopub.execute_input": "2025-04-14T20:15:24.033059Z",
     "iopub.status.busy": "2025-04-14T20:15:24.032563Z",
     "iopub.status.idle": "2025-04-14T20:15:24.073230Z",
     "shell.execute_reply": "2025-04-14T20:15:24.071919Z"
    },
    "papermill": {
     "duration": 0.055206,
     "end_time": "2025-04-14T20:15:24.075539",
     "exception": false,
     "start_time": "2025-04-14T20:15:24.020333",
     "status": "completed"
    },
    "tags": []
   },
   "outputs": [],
   "source": [
    "df_epi_small = df_epi[[\"title\", \"text_for_embedding\"]].copy()\n",
    "\n",
    "df_epi_small = df_epi_small[df_epi_small[\"text_for_embedding\"].notna()]\n",
    "df_epi_small = df_epi_small[df_epi_small[\"text_for_embedding\"].str.strip() != \"\"]"
   ]
  },
  {
   "cell_type": "markdown",
   "id": "66ca274b",
   "metadata": {
    "papermill": {
     "duration": 0.009858,
     "end_time": "2025-04-14T20:15:24.096120",
     "exception": false,
     "start_time": "2025-04-14T20:15:24.086262",
     "status": "completed"
    },
    "tags": []
   },
   "source": [
    "### 2.3 Define dietary profiles"
   ]
  },
  {
   "cell_type": "code",
   "execution_count": 9,
   "id": "c0631495",
   "metadata": {
    "execution": {
     "iopub.execute_input": "2025-04-14T20:15:24.118726Z",
     "iopub.status.busy": "2025-04-14T20:15:24.118364Z",
     "iopub.status.idle": "2025-04-14T20:15:24.126709Z",
     "shell.execute_reply": "2025-04-14T20:15:24.125399Z"
    },
    "papermill": {
     "duration": 0.022145,
     "end_time": "2025-04-14T20:15:24.128748",
     "exception": false,
     "start_time": "2025-04-14T20:15:24.106603",
     "status": "completed"
    },
    "tags": []
   },
   "outputs": [],
   "source": [
    "diet_profiles = [\n",
    "    {\n",
    "        \"name\": \"Hashimoto\",\n",
    "        \"description\": \"Autoimmune thyroid disorder requiring reduced iodine and anti-inflammatory foods\",\n",
    "        \"restrictions\": [\"no gluten\", \"no lactose\", \"low iodine\"],\n",
    "        \"excluded_ingredients\": [\"soy\", \"kale\", \"broccoli\", \"processed food\"],\n",
    "        \"preferences\": [\"anti-inflammatory\", \"high fiber\"]\n",
    "    },\n",
    "    {\n",
    "        \"name\": \"Type 2 Diabetes\",\n",
    "        \"description\": \"Metabolic disorder that affects blood sugar regulation\",\n",
    "        \"restrictions\": [\"low sugar\", \"low refined carbohydrates\"],\n",
    "        \"excluded_ingredients\": [\"sugar-sweetened beverages\", \"white bread\", \"candy\", \"baked goods\"],\n",
    "        \"preferences\": [\"low glycemic index\", \"high fiber\", \"balanced carbohydrates\"]\n",
    "    },\n",
    "    {\n",
    "        \"name\": \"Celiac Disease\",\n",
    "        \"description\": \"Autoimmune disorder triggered by gluten consumption\",\n",
    "        \"restrictions\": [\"no gluten\"],\n",
    "        \"excluded_ingredients\": [\"wheat\", \"barley\", \"rye\", \"malt\", \"processed gluten-containing foods\"],\n",
    "        \"preferences\": [\"naturally gluten-free whole foods\", \"high fiber\"]\n",
    "    },\n",
    "    {\n",
    "        \"name\": \"Vegan Diet\",\n",
    "        \"description\": \"Plant-based diet excluding all animal products\",\n",
    "        \"restrictions\": [\"no meat\", \"no dairy\", \"no eggs\", \"no animal-derived ingredients\"],\n",
    "        \"excluded_ingredients\": [\"meat\", \"milk\", \"cheese\", \"honey\", \"gelatin\"],\n",
    "        \"preferences\": [\"whole plant foods\", \"plant-based proteins\", \"B12-fortified foods\"]\n",
    "    },\n",
    "    {\n",
    "        \"name\": \"High-Protein (Athletes)\",\n",
    "        \"description\": \"Diet supporting muscle growth and recovery with increased protein intake\",\n",
    "        \"restrictions\": [],\n",
    "        \"excluded_ingredients\": [\"excess sugar\", \"deep-fried food\"],\n",
    "        \"preferences\": [\"high protein\", \"complex carbohydrates\", \"healthy fats\", \"lean meats\", \"legumes\", \"dairy or alternatives\"]\n",
    "    }\n",
    "]"
   ]
  },
  {
   "cell_type": "markdown",
   "id": "9f798dfd",
   "metadata": {
    "papermill": {
     "duration": 0.01037,
     "end_time": "2025-04-14T20:15:24.149955",
     "exception": false,
     "start_time": "2025-04-14T20:15:24.139585",
     "status": "completed"
    },
    "tags": []
   },
   "source": [
    "## 🔍 3. Recipe Embedding and Semantic Search"
   ]
  },
  {
   "cell_type": "markdown",
   "id": "16f6d2c9",
   "metadata": {
    "papermill": {
     "duration": 0.010519,
     "end_time": "2025-04-14T20:15:24.171038",
     "exception": false,
     "start_time": "2025-04-14T20:15:24.160519",
     "status": "completed"
    },
    "tags": []
   },
   "source": [
    "### 3.1 Create embeddings for recipes"
   ]
  },
  {
   "cell_type": "code",
   "execution_count": 10,
   "id": "6f21c24d",
   "metadata": {
    "execution": {
     "iopub.execute_input": "2025-04-14T20:15:24.194012Z",
     "iopub.status.busy": "2025-04-14T20:15:24.193571Z",
     "iopub.status.idle": "2025-04-14T20:15:24.199790Z",
     "shell.execute_reply": "2025-04-14T20:15:24.198481Z"
    },
    "papermill": {
     "duration": 0.020002,
     "end_time": "2025-04-14T20:15:24.201759",
     "exception": false,
     "start_time": "2025-04-14T20:15:24.181757",
     "status": "completed"
    },
    "tags": []
   },
   "outputs": [],
   "source": [
    "# embedding function:\n",
    "def embed_texts_genai(texts: list[str], model=\"models/embedding-001\", task_type=\"retrieval_document\", title=None) -> np.ndarray:\n",
    "    all_embeddings = []\n",
    "    for text in tqdm(texts):\n",
    "        response = genai.embed_content(\n",
    "            model=model,\n",
    "            content=text,\n",
    "            task_type=task_type,\n",
    "            title=title or \"Recipe\"\n",
    "        )\n",
    "        all_embeddings.append(response[\"embedding\"])\n",
    "    return np.array(all_embeddings)\n",
    "\n",
    "# texts = df_epi_small[\"text_for_embedding\"].tolist()\n",
    "\n",
    "# recipe_embeddings = embed_texts_genai(texts)\n",
    "\n",
    "# print(\"✅ Embedding shape:\", recipe_embeddings.shape)"
   ]
  },
  {
   "cell_type": "markdown",
   "id": "38c9199d",
   "metadata": {
    "papermill": {
     "duration": 0.010521,
     "end_time": "2025-04-14T20:15:24.224859",
     "exception": false,
     "start_time": "2025-04-14T20:15:24.214338",
     "status": "completed"
    },
    "tags": []
   },
   "source": [
    "### 3.2 Store embeddings in vector database"
   ]
  },
  {
   "cell_type": "code",
   "execution_count": 11,
   "id": "e12295e4",
   "metadata": {
    "execution": {
     "iopub.execute_input": "2025-04-14T20:15:24.247175Z",
     "iopub.status.busy": "2025-04-14T20:15:24.246681Z",
     "iopub.status.idle": "2025-04-14T20:15:24.251441Z",
     "shell.execute_reply": "2025-04-14T20:15:24.250100Z"
    },
    "papermill": {
     "duration": 0.018231,
     "end_time": "2025-04-14T20:15:24.253446",
     "exception": false,
     "start_time": "2025-04-14T20:15:24.235215",
     "status": "completed"
    },
    "tags": []
   },
   "outputs": [],
   "source": [
    "# recipe_embeddings = recipe_embeddings.astype(\"float32\")\n",
    "\n",
    "# index = faiss.IndexFlatL2(recipe_embeddings.shape[1])\n",
    "# index.add(recipe_embeddings)\n",
    "\n",
    "# print(\"🔍 FAISS index size:\", index.ntotal)\n",
    "\n",
    "# # save index of database to a file\n",
    "# faiss.write_index(index, \"recipe_index.faiss\")"
   ]
  },
  {
   "cell_type": "code",
   "execution_count": 12,
   "id": "c010e428",
   "metadata": {
    "execution": {
     "iopub.execute_input": "2025-04-14T20:15:24.275747Z",
     "iopub.status.busy": "2025-04-14T20:15:24.275319Z",
     "iopub.status.idle": "2025-04-14T20:15:24.279863Z",
     "shell.execute_reply": "2025-04-14T20:15:24.278687Z"
    },
    "papermill": {
     "duration": 0.01779,
     "end_time": "2025-04-14T20:15:24.281671",
     "exception": false,
     "start_time": "2025-04-14T20:15:24.263881",
     "status": "completed"
    },
    "tags": []
   },
   "outputs": [],
   "source": [
    "# #save embeddings to a file for further use\n",
    "# df_epi_small.reset_index(drop=True, inplace=True)  \n",
    "# df_epi_small.to_csv(\"recipe_metadata.csv\", index=False)"
   ]
  },
  {
   "cell_type": "markdown",
   "id": "7ccb286f",
   "metadata": {
    "papermill": {
     "duration": 0.009535,
     "end_time": "2025-04-14T20:15:24.301285",
     "exception": false,
     "start_time": "2025-04-14T20:15:24.291750",
     "status": "completed"
    },
    "tags": []
   },
   "source": [
    "## Użycie wcześniejsszego embeddingu"
   ]
  },
  {
   "cell_type": "code",
   "execution_count": 13,
   "id": "773a11e5",
   "metadata": {
    "execution": {
     "iopub.execute_input": "2025-04-14T20:15:24.323377Z",
     "iopub.status.busy": "2025-04-14T20:15:24.322922Z",
     "iopub.status.idle": "2025-04-14T20:15:28.946794Z",
     "shell.execute_reply": "2025-04-14T20:15:28.944991Z"
    },
    "papermill": {
     "duration": 4.637583,
     "end_time": "2025-04-14T20:15:28.949017",
     "exception": false,
     "start_time": "2025-04-14T20:15:24.311434",
     "status": "completed"
    },
    "tags": []
   },
   "outputs": [
    {
     "name": "stdout",
     "output_type": "stream",
     "text": [
      "Requirement already satisfied: gdown in /usr/local/lib/python3.10/dist-packages (5.2.0)\r\n",
      "Requirement already satisfied: beautifulsoup4 in /usr/local/lib/python3.10/dist-packages (from gdown) (4.12.3)\r\n",
      "Requirement already satisfied: filelock in /usr/local/lib/python3.10/dist-packages (from gdown) (3.17.0)\r\n",
      "Requirement already satisfied: requests[socks] in /usr/local/lib/python3.10/dist-packages (from gdown) (2.32.3)\r\n",
      "Requirement already satisfied: tqdm in /usr/local/lib/python3.10/dist-packages (from gdown) (4.67.1)\r\n",
      "Requirement already satisfied: soupsieve>1.2 in /usr/local/lib/python3.10/dist-packages (from beautifulsoup4->gdown) (2.6)\r\n",
      "Requirement already satisfied: charset-normalizer<4,>=2 in /usr/local/lib/python3.10/dist-packages (from requests[socks]->gdown) (3.4.1)\r\n",
      "Requirement already satisfied: idna<4,>=2.5 in /usr/local/lib/python3.10/dist-packages (from requests[socks]->gdown) (3.10)\r\n",
      "Requirement already satisfied: urllib3<3,>=1.21.1 in /usr/local/lib/python3.10/dist-packages (from requests[socks]->gdown) (2.3.0)\r\n",
      "Requirement already satisfied: certifi>=2017.4.17 in /usr/local/lib/python3.10/dist-packages (from requests[socks]->gdown) (2025.1.31)\r\n",
      "Requirement already satisfied: PySocks!=1.5.7,>=1.5.6 in /usr/local/lib/python3.10/dist-packages (from requests[socks]->gdown) (1.7.1)\r\n"
     ]
    }
   ],
   "source": [
    "!pip install gdown"
   ]
  },
  {
   "cell_type": "code",
   "execution_count": 14,
   "id": "9d10d2d4",
   "metadata": {
    "execution": {
     "iopub.execute_input": "2025-04-14T20:15:28.972986Z",
     "iopub.status.busy": "2025-04-14T20:15:28.972323Z",
     "iopub.status.idle": "2025-04-14T20:15:40.707936Z",
     "shell.execute_reply": "2025-04-14T20:15:40.706481Z"
    },
    "papermill": {
     "duration": 11.750079,
     "end_time": "2025-04-14T20:15:40.710110",
     "exception": false,
     "start_time": "2025-04-14T20:15:28.960031",
     "status": "completed"
    },
    "tags": []
   },
   "outputs": [
    {
     "name": "stderr",
     "output_type": "stream",
     "text": [
      "Downloading...\n",
      "From: https://drive.google.com/uc?id=1sWrwfcJ6px3n-l2CLIpK4KG7D3GKl-kG\n",
      "To: /kaggle/working/recipe_index.faiss\n",
      "100%|██████████| 61.8M/61.8M [00:00<00:00, 206MB/s]\n",
      "Downloading...\n",
      "From: https://drive.google.com/uc?id=189pU4qLUiB2C_qmx5KEVzoQ1YfZnRBOm\n",
      "To: /kaggle/working/recipe_metadata.csv\n",
      "100%|██████████| 8.97M/8.97M [00:00<00:00, 140MB/s]\n"
     ]
    },
    {
     "name": "stdout",
     "output_type": "stream",
     "text": [
      "Index i metadane załadowane poprawnie!\n"
     ]
    }
   ],
   "source": [
    "# load previously made embeddings to save time\n",
    "import gdown\n",
    "# Google Drive ID \n",
    "index_file_id = \"1sWrwfcJ6px3n-l2CLIpK4KG7D3GKl-kG\"\n",
    "csv_file_id = \"189pU4qLUiB2C_qmx5KEVzoQ1YfZnRBOm\"\n",
    "\n",
    "# local path\n",
    "index_local_path = \"recipe_index.faiss\"\n",
    "csv_local_path = \"recipe_metadata.csv\"\n",
    "\n",
    "gdown.download(f\"https://drive.google.com/uc?id={index_file_id}\", index_local_path, quiet=False)\n",
    "gdown.download(f\"https://drive.google.com/uc?id={csv_file_id}\", csv_local_path, quiet=False)\n",
    "\n",
    "index = faiss.read_index(index_local_path)\n",
    "metadata = pd.read_csv(csv_local_path)\n",
    "\n",
    "print(\"Index i metadane załadowane poprawnie!\")"
   ]
  },
  {
   "cell_type": "markdown",
   "id": "03cd4e38",
   "metadata": {
    "papermill": {
     "duration": 0.010329,
     "end_time": "2025-04-14T20:15:40.731366",
     "exception": false,
     "start_time": "2025-04-14T20:15:40.721037",
     "status": "completed"
    },
    "tags": []
   },
   "source": [
    "### 3.3 Create search function: input → matching recipes"
   ]
  },
  {
   "cell_type": "code",
   "execution_count": 15,
   "id": "393fcac3",
   "metadata": {
    "execution": {
     "iopub.execute_input": "2025-04-14T20:15:40.754592Z",
     "iopub.status.busy": "2025-04-14T20:15:40.754132Z",
     "iopub.status.idle": "2025-04-14T20:15:40.763630Z",
     "shell.execute_reply": "2025-04-14T20:15:40.761900Z"
    },
    "papermill": {
     "duration": 0.023728,
     "end_time": "2025-04-14T20:15:40.765736",
     "exception": false,
     "start_time": "2025-04-14T20:15:40.742008",
     "status": "completed"
    },
    "tags": []
   },
   "outputs": [],
   "source": [
    "def search_recipes(query: str, diet_profile_name: str = None, top_k: int = 3):\n",
    "    \"\"\"Embeds the user's query and search for top_k compatible recipes, \n",
    "    optionally filtered by dietary profile.\"\"\"\n",
    "    # print(f\"Jestem w search_recipes. query: {str} diet: {diet_profile_name}\") #By PIotr\n",
    "    # selec dietary profile (optional)\n",
    "    selected_profile = None\n",
    "    if diet_profile_name:\n",
    "        selected_profile = next((p for p in diet_profiles if p[\"name\"].lower() == diet_profile_name.lower()), None)\n",
    "        if selected_profile is None:\n",
    "            raise ValueError(f\"Diet profile '{diet_profile_name}' not found.\")\n",
    "    \n",
    "    # query embedding\n",
    "    query_embedding = embed_texts_genai([query])\n",
    "    query_embedding = query_embedding.astype(\"float32\")\n",
    "    \n",
    "    # search top_k recipes\n",
    "    distances,indices = index.search(query_embedding, top_k * 2)\n",
    "    \n",
    "    results = []\n",
    "    for idx, dist in zip(indices[0], distances[0]):\n",
    "        title = df_epi_small.iloc[idx][\"title\"]\n",
    "        ingredients_text = df_epi_small.iloc[idx][\"text_for_embedding\"].lower()\n",
    "        \n",
    "        # filtering by excluded_ingredients\n",
    "        if selected_profile:\n",
    "            if any(ex_ingredient.lower() in ingredients_text for ex_ingredient in selected_profile[\"excluded_ingredients\"]):\n",
    "                continue\n",
    "        results.append({\n",
    "            \"title\": title,\n",
    "            \"ingredients\": ingredients_text,\n",
    "            \"distance\": dist\n",
    "        })\n",
    "\n",
    "        if len(results) >= top_k:\n",
    "            break\n",
    "    return results"
   ]
  },
  {
   "cell_type": "markdown",
   "id": "d306d43e",
   "metadata": {
    "papermill": {
     "duration": 0.010153,
     "end_time": "2025-04-14T20:15:40.787994",
     "exception": false,
     "start_time": "2025-04-14T20:15:40.777841",
     "status": "completed"
    },
    "tags": []
   },
   "source": [
    "## 🧑‍🍳 4. Building the GenAI Agent\n",
    "\n",
    "### 4.1 Define Tools (functions for search, filtering, planning)"
   ]
  },
  {
   "cell_type": "code",
   "execution_count": 16,
   "id": "2ab91de7",
   "metadata": {
    "execution": {
     "iopub.execute_input": "2025-04-14T20:15:40.812084Z",
     "iopub.status.busy": "2025-04-14T20:15:40.811620Z",
     "iopub.status.idle": "2025-04-14T20:15:42.982463Z",
     "shell.execute_reply": "2025-04-14T20:15:42.980825Z"
    },
    "papermill": {
     "duration": 2.186024,
     "end_time": "2025-04-14T20:15:42.984953",
     "exception": false,
     "start_time": "2025-04-14T20:15:40.798929",
     "status": "completed"
    },
    "tags": []
   },
   "outputs": [],
   "source": [
    "from langchain.agents import Tool\n",
    "\n",
    "def search_recipes_tool_wrapper(query: str) -> str:\n",
    "    print(\"Tool search_recipes_tool_wrapper \")\n",
    "    \"\"\"\n",
    "    Tool wrapper that assumes the query is in the format:\n",
    "    'ingredients: zucchini, tofu, onion | diet: Hashimoto'\n",
    "    \"\"\"\n",
    "    try:\n",
    "        #  Parsing components and profile\n",
    "        if \"|\" in query:\n",
    "            ingredients_part, diet_part = query.split(\"|\")\n",
    "            ingredients = ingredients_part.replace(\"ingredients:\", \"\").strip()\n",
    "            diet = diet_part.replace(\"diet:\", \"\").strip()\n",
    "        else:\n",
    "            ingredients = query.strip()\n",
    "            diet = None\n",
    "\n",
    "        results = search_recipes(ingredients, diet_profile_name=diet, top_k=3)\n",
    "        if not results:\n",
    "            return \"No recipes found for this query and dietary profile.\"\n",
    "            \n",
    "        return \"\\n\\n\".join([f\"{r['title']} (distance: {r['distance']:.2f})\\nIngredients: {r['ingredients']}\" for r in results])\n",
    "\n",
    "    except Exception as e:\n",
    "        return f\"Error in recipe search: {str(e)}\""
   ]
  },
  {
   "cell_type": "code",
   "execution_count": 17,
   "id": "99a49bf7",
   "metadata": {
    "execution": {
     "iopub.execute_input": "2025-04-14T20:15:43.009248Z",
     "iopub.status.busy": "2025-04-14T20:15:43.008750Z",
     "iopub.status.idle": "2025-04-14T20:15:43.014079Z",
     "shell.execute_reply": "2025-04-14T20:15:43.012899Z"
    },
    "papermill": {
     "duration": 0.019702,
     "end_time": "2025-04-14T20:15:43.016051",
     "exception": false,
     "start_time": "2025-04-14T20:15:42.996349",
     "status": "completed"
    },
    "tags": []
   },
   "outputs": [],
   "source": [
    "search_tool = Tool(\n",
    "    name=\"SearchRecipeByIngredientsAndDiet\",\n",
    "    func=search_recipes_tool_wrapper,\n",
    "    description=\"Searches for recipes based on given ingredients and an optional dietary profile. Input format: 'ingredients: zucchini, tofu | diet: Hashimoto'\"\n",
    ")"
   ]
  },
  {
   "cell_type": "code",
   "execution_count": 18,
   "id": "dc4de056",
   "metadata": {
    "execution": {
     "iopub.execute_input": "2025-04-14T20:15:43.040606Z",
     "iopub.status.busy": "2025-04-14T20:15:43.040183Z",
     "iopub.status.idle": "2025-04-14T20:15:43.048198Z",
     "shell.execute_reply": "2025-04-14T20:15:43.046982Z"
    },
    "papermill": {
     "duration": 0.022992,
     "end_time": "2025-04-14T20:15:43.050500",
     "exception": false,
     "start_time": "2025-04-14T20:15:43.027508",
     "status": "completed"
    },
    "tags": []
   },
   "outputs": [],
   "source": [
    "def adapt_recipe_to_diet(recipe_title: str, ingredients: str, directions: str, target_diet: str) -> str:\n",
    "    print(\"Tool adapt_recipe_to_diet \")  # By Piotr\n",
    "    \"\"\"\n",
    "    Uses GenAI to rewrite a recipe so that it fits the selected dietary profile.\n",
    "    \"\"\"\n",
    "    prompt = f\"\"\"You are a health-aware recipe assistant.\n",
    "    Rewrite the following recipe to make it suitable for a {target_diet} diet.\n",
    "    \n",
    "    Title: {recipe_title}\n",
    "\n",
    "    Ingredients:\n",
    "    {ingredients}\n",
    "\n",
    "    Directions:\n",
    "    {directions}\n",
    "\n",
    "    Return a revised version with adjusted ingredients and cooking steps.\n",
    "    \"\"\"\n",
    "\n",
    "    model = genai.GenerativeModel(\"gemini-2.0-flash\")\n",
    "    response = model.generate_content(prompt)\n",
    "    return response.text \n",
    "\n",
    "\n",
    "def generate_meal_plan(diet_profile_name: str) -> str:\n",
    "    print(\"Tool generate_meal_plan \")  # By PIotr\n",
    "    \"\"\"\n",
    "    Generates a simple 1-day meal plan based on a dietary profile using LLM.\n",
    "    \"\"\"\n",
    "    prompt = f\"\"\"Create a one-day healthy meal plan for someone following a {diet_profile_name} diet.\n",
    "    The plan should include breakfast, lunch, dinner, and snacks, with simple dish names and a short description.\n",
    "\n",
    "    Format:\n",
    "    Meal Type: Name - Description\n",
    "    \"\"\"\n",
    "    model = genai.GenerativeModel(\"gemini-2.0-flash\")\n",
    "    response = model.generate_content(prompt)\n",
    "    return response.text\n",
    "    \n",
    "\n",
    "def explain_diet_compatibility(recipe_title: str, ingredients: str, diet_profile_name: str) -> str:\n",
    "    \"\"\"\n",
    "    Uses LLM to reason whether the recipe fits the selected dietary profile and explain why.\n",
    "    \"\"\"\n",
    "    prompt = f\"\"\"Analyze the following recipe and determine if it is compatible with a {diet_profile_name} diet.\n",
    "\n",
    "    Title: {recipe_title}\n",
    "\n",
    "    Ingredients:\n",
    "    {ingredients}\n",
    "\n",
    "    Give a short reasoning about whether this recipe fits the dietary profile or not, and why.\n",
    "    \"\"\"\n",
    "    model = genai.GenerativeModel(\"gemini-2.0-flash\")\n",
    "    response = model.generate_content(prompt)\n",
    "    return response.text"
   ]
  },
  {
   "cell_type": "code",
   "execution_count": 19,
   "id": "ef418715",
   "metadata": {
    "execution": {
     "iopub.execute_input": "2025-04-14T20:15:43.074052Z",
     "iopub.status.busy": "2025-04-14T20:15:43.073601Z",
     "iopub.status.idle": "2025-04-14T20:15:43.085465Z",
     "shell.execute_reply": "2025-04-14T20:15:43.083978Z"
    },
    "papermill": {
     "duration": 0.025936,
     "end_time": "2025-04-14T20:15:43.087552",
     "exception": false,
     "start_time": "2025-04-14T20:15:43.061616",
     "status": "completed"
    },
    "tags": []
   },
   "outputs": [],
   "source": [
    "adapt_recipe_tool = Tool(\n",
    "    name=\"AdaptRecipeToDiet\",\n",
    "    func=lambda query: adapt_recipe_to_diet_wrapper(query),\n",
    "    description=(\n",
    "        \"Rewrites a recipe to make it compatible with a specific diet. \"\n",
    "        \"Input format: 'title: [recipe title] | ingredients: [ingredients] | directions: [directions] | diet: [diet name]'\"\n",
    "    )\n",
    ")\n",
    "\n",
    "def adapt_recipe_to_diet_wrapper(query: str) -> str:\n",
    "    print(\"Tool adapt_recipe_to_diet_wrapper \")  # By Piotr\n",
    "    try:\n",
    "        parts = {k.strip(): v.strip() for k, v in (item.split(\":\", 1) for item in query.split(\"|\"))}\n",
    "\n",
    "        title = parts.get(\"title\", \"\")\n",
    "        ingredients = parts.get(\"ingredients\", \"\")\n",
    "        diet = parts.get(\"diet\", \"\")\n",
    "        \n",
    "        return adapt_recipe_to_diet(\n",
    "            recipe_title=parts.get(\"title\", \"\"),\n",
    "            ingredients=parts.get(\"ingredients\", \"\"),\n",
    "            directions=parts.get(\"directions\", \"\"),\n",
    "            target_diet=parts.get(\"diet\", \"\")\n",
    "        )\n",
    "    except Exception as e:\n",
    "        return f\"[ERROR] Could not adapt recipe: {str(e)}\"\n",
    "\n",
    "meal_plan_tool = Tool(\n",
    "    name=\"GenerateMealPlan\",\n",
    "    func=lambda query: generate_meal_plan_wrapper(query),\n",
    "    description=\"Generates a 1-day healthy meal plan for a given dietary profile. Input format: 'diet: [diet name]'\"\n",
    ")\n",
    "def generate_meal_plan_wrapper(query: str) -> str:\n",
    "    print(\"Tool generate_meal_plan_wrapper \")  # By Piotr\n",
    "    try:\n",
    "        parts = {k.strip(): v.strip() for k, v in (item.split(\":\", 1) for item in query.split(\"|\"))}\n",
    "        return generate_meal_plan(diet_profile_name=parts.get(\"diet\", \"\"))\n",
    "    except Exception as e:\n",
    "        return f\"[ERROR] Could not generate meal plan: {str(e)}\"\n",
    "\n",
    "diet_explanation_tool = Tool(\n",
    "    name=\"ExplainDietCompatibility\",\n",
    "    func=lambda query: explain_diet_compatibility_wrapper(query),\n",
    "    description=(\n",
    "        \"Explains if a recipe is compatible with a given diet and why. \"\n",
    "        \"Input format: 'title: [recipe title] | ingredients: [ingredients] | diet: [diet name]'\"\n",
    "    )\n",
    ")\n",
    "\n",
    "def explain_diet_compatibility_wrapper(query: str) -> str:\n",
    "    try:\n",
    "        parts = {k.strip(): v.strip() for k, v in (item.split(\":\", 1) for item in query.split(\"|\"))}\n",
    "        return explain_diet_compatibility(\n",
    "            recipe_title=parts.get(\"title\", \"\"),\n",
    "            ingredients=parts.get(\"ingredients\", \"\"),\n",
    "            diet_profile_name=parts.get(\"diet\", \"\")\n",
    "        )\n",
    "    except Exception as e:\n",
    "        return f\"[ERROR] Could not explain compatibility: {str(e)}\""
   ]
  },
  {
   "cell_type": "code",
   "execution_count": 20,
   "id": "123a01f2",
   "metadata": {
    "execution": {
     "iopub.execute_input": "2025-04-14T20:15:43.111579Z",
     "iopub.status.busy": "2025-04-14T20:15:43.111221Z",
     "iopub.status.idle": "2025-04-14T20:15:43.117601Z",
     "shell.execute_reply": "2025-04-14T20:15:43.116158Z"
    },
    "papermill": {
     "duration": 0.020692,
     "end_time": "2025-04-14T20:15:43.119575",
     "exception": false,
     "start_time": "2025-04-14T20:15:43.098883",
     "status": "completed"
    },
    "tags": []
   },
   "outputs": [],
   "source": [
    "# Wrap the tools with debugging\n",
    "def debug_tool_wrapper(tool_func):\n",
    "    def wrapped_tool(*args, **kwargs):\n",
    "        print(f\"Debug: Invoking tool {tool_func.__name__} with args={args}, kwargs={kwargs}\")\n",
    "        result = tool_func(*args, **kwargs)\n",
    "        print(f\"Debug: Tool {tool_func.__name__} returned {result}\")\n",
    "        return result\n",
    "    return wrapped_tool\n",
    "\n",
    "# Wrap each tool\n",
    "search_tool.func = debug_tool_wrapper(search_tool.func)\n",
    "adapt_recipe_tool.func = debug_tool_wrapper(adapt_recipe_tool.func)\n",
    "meal_plan_tool.func = debug_tool_wrapper(meal_plan_tool.func)\n",
    "diet_explanation_tool.func = debug_tool_wrapper(diet_explanation_tool.func)"
   ]
  },
  {
   "cell_type": "code",
   "execution_count": 21,
   "id": "9cc9516e",
   "metadata": {
    "execution": {
     "iopub.execute_input": "2025-04-14T20:15:43.143458Z",
     "iopub.status.busy": "2025-04-14T20:15:43.143102Z",
     "iopub.status.idle": "2025-04-14T20:15:43.147619Z",
     "shell.execute_reply": "2025-04-14T20:15:43.146435Z"
    },
    "papermill": {
     "duration": 0.018874,
     "end_time": "2025-04-14T20:15:43.149439",
     "exception": false,
     "start_time": "2025-04-14T20:15:43.130565",
     "status": "completed"
    },
    "tags": []
   },
   "outputs": [],
   "source": [
    "tools = [\n",
    "    search_tool,                 \n",
    "    adapt_recipe_tool,\n",
    "    meal_plan_tool,\n",
    "    diet_explanation_tool\n",
    "]"
   ]
  },
  {
   "cell_type": "markdown",
   "id": "be52ce46",
   "metadata": {
    "papermill": {
     "duration": 0.010218,
     "end_time": "2025-04-14T20:15:43.170317",
     "exception": false,
     "start_time": "2025-04-14T20:15:43.160099",
     "status": "completed"
    },
    "tags": []
   },
   "source": [
    "### 4.2 Prompt templates and agent logic"
   ]
  },
  {
   "cell_type": "code",
   "execution_count": 22,
   "id": "d9e673c1",
   "metadata": {
    "execution": {
     "iopub.execute_input": "2025-04-14T20:15:43.192747Z",
     "iopub.status.busy": "2025-04-14T20:15:43.192417Z",
     "iopub.status.idle": "2025-04-14T20:15:43.341277Z",
     "shell.execute_reply": "2025-04-14T20:15:43.339985Z"
    },
    "papermill": {
     "duration": 0.162756,
     "end_time": "2025-04-14T20:15:43.343647",
     "exception": false,
     "start_time": "2025-04-14T20:15:43.180891",
     "status": "completed"
    },
    "tags": []
   },
   "outputs": [],
   "source": [
    "from langchain_google_genai import ChatGoogleGenerativeAI\n",
    "\n",
    "llm = ChatGoogleGenerativeAI(model=\"gemini-2.0-flash\", google_api_key=GOOGLE_API_KEY, temperature=0.3)"
   ]
  },
  {
   "cell_type": "code",
   "execution_count": 23,
   "id": "e90b003e",
   "metadata": {
    "execution": {
     "iopub.execute_input": "2025-04-14T20:15:43.368050Z",
     "iopub.status.busy": "2025-04-14T20:15:43.367671Z",
     "iopub.status.idle": "2025-04-14T20:15:43.385860Z",
     "shell.execute_reply": "2025-04-14T20:15:43.384683Z"
    },
    "papermill": {
     "duration": 0.032942,
     "end_time": "2025-04-14T20:15:43.388232",
     "exception": false,
     "start_time": "2025-04-14T20:15:43.355290",
     "status": "completed"
    },
    "tags": []
   },
   "outputs": [],
   "source": [
    "from langgraph.checkpoint.memory import MemorySaver\n",
    "memory = MemorySaver()\n",
    "\n",
    "conversation_config = {\n",
    "    \"configurable\": {\n",
    "        \"thread_id\": \"user\"  \n",
    "    }\n",
    "}"
   ]
  },
  {
   "cell_type": "code",
   "execution_count": 24,
   "id": "9ecf2d45",
   "metadata": {
    "execution": {
     "iopub.execute_input": "2025-04-14T20:15:43.412062Z",
     "iopub.status.busy": "2025-04-14T20:15:43.411674Z",
     "iopub.status.idle": "2025-04-14T20:15:43.416120Z",
     "shell.execute_reply": "2025-04-14T20:15:43.414955Z"
    },
    "papermill": {
     "duration": 0.018604,
     "end_time": "2025-04-14T20:15:43.418136",
     "exception": false,
     "start_time": "2025-04-14T20:15:43.399532",
     "status": "completed"
    },
    "tags": []
   },
   "outputs": [],
   "source": [
    "system_prompt = (\n",
    "    \"You are a helpful, health-conscious AI cooking assistant. \"\n",
    "    \"You specialize in generating, adapting, and evaluating recipes based on user dietary needs and available ingredients. \"\n",
    "    \"Always consider dietary profiles such as Hashimoto, diabetes, vegan, etc. \"\n",
    "    \"Use the available tools to search, adapt, and explain recipes. Think step-by-step and provide clear, friendly responses.\"\n",
    "    )"
   ]
  },
  {
   "cell_type": "code",
   "execution_count": 25,
   "id": "92b33266",
   "metadata": {
    "execution": {
     "iopub.execute_input": "2025-04-14T20:15:43.442588Z",
     "iopub.status.busy": "2025-04-14T20:15:43.442188Z",
     "iopub.status.idle": "2025-04-14T20:15:43.609683Z",
     "shell.execute_reply": "2025-04-14T20:15:43.608373Z"
    },
    "papermill": {
     "duration": 0.182187,
     "end_time": "2025-04-14T20:15:43.612023",
     "exception": false,
     "start_time": "2025-04-14T20:15:43.429836",
     "status": "completed"
    },
    "tags": []
   },
   "outputs": [
    {
     "name": "stdout",
     "output_type": "stream",
     "text": [
      "Debug: Agent logic invoked with args=(), kwargs={'model': ChatGoogleGenerativeAI(model='models/gemini-2.0-flash', google_api_key=SecretStr('**********'), temperature=0.3, client=<google.ai.generativelanguage_v1beta.services.generative_service.client.GenerativeServiceClient object at 0x7a776da853f0>, default_metadata=()), 'tools': [Tool(name='SearchRecipeByIngredientsAndDiet', description=\"Searches for recipes based on given ingredients and an optional dietary profile. Input format: 'ingredients: zucchini, tofu | diet: Hashimoto'\", func=<function debug_tool_wrapper.<locals>.wrapped_tool at 0x7a776d809360>), Tool(name='AdaptRecipeToDiet', description=\"Rewrites a recipe to make it compatible with a specific diet. Input format: 'title: [recipe title] | ingredients: [ingredients] | directions: [directions] | diet: [diet name]'\", func=<function debug_tool_wrapper.<locals>.wrapped_tool at 0x7a776d8093f0>), Tool(name='GenerateMealPlan', description=\"Generates a 1-day healthy meal plan for a given dietary profile. Input format: 'diet: [diet name]'\", func=<function debug_tool_wrapper.<locals>.wrapped_tool at 0x7a776d809480>), Tool(name='ExplainDietCompatibility', description=\"Explains if a recipe is compatible with a given diet and why. Input format: 'title: [recipe title] | ingredients: [ingredients] | diet: [diet name]'\", func=<function debug_tool_wrapper.<locals>.wrapped_tool at 0x7a776d809510>)], 'prompt': 'You are a helpful, health-conscious AI cooking assistant. You specialize in generating, adapting, and evaluating recipes based on user dietary needs and available ingredients. Always consider dietary profiles such as Hashimoto, diabetes, vegan, etc. Use the available tools to search, adapt, and explain recipes. Think step-by-step and provide clear, friendly responses.', 'checkpointer': <langgraph.checkpoint.memory.InMemorySaver object at 0x7a776da2a560>}\n"
     ]
    }
   ],
   "source": [
    "from langgraph.prebuilt import create_react_agent\n",
    "from langgraph.graph import StateGraph, END\n",
    "from langchain_core.messages import HumanMessage\n",
    "\n",
    "\n",
    "class AgentState(TypedDict):\n",
    "    messages: List[HumanMessage]\n",
    "\n",
    "def debug_agent_logic(*args, **kwargs):    # zmieniam na inny rodzaj agenta\n",
    "    print(f\"Debug: Agent logic invoked with args={args}, kwargs={kwargs}\")\n",
    "    return create_react_agent(*args, **kwargs)\n",
    "\n",
    "agent_node = debug_agent_logic(\n",
    "    model = llm, \n",
    "    tools = tools,\n",
    "    prompt = system_prompt,\n",
    "    checkpointer=memory\n",
    ")\n",
    "\n",
    "builder = StateGraph(state_schema=AgentState)\n",
    "builder.add_node(\"agent\", agent_node)\n",
    "builder.set_entry_point(\"agent\")\n",
    "builder.add_edge(\"agent\", END)\n",
    "\n",
    "graph = builder.compile()\n",
    "graph = graph.with_config({\"max_iterations\": 3})  # NEW"
   ]
  },
  {
   "cell_type": "code",
   "execution_count": 26,
   "id": "88e89988",
   "metadata": {
    "execution": {
     "iopub.execute_input": "2025-04-14T20:15:43.636152Z",
     "iopub.status.busy": "2025-04-14T20:15:43.635683Z",
     "iopub.status.idle": "2025-04-14T20:15:43.661500Z",
     "shell.execute_reply": "2025-04-14T20:15:43.659788Z"
    },
    "papermill": {
     "duration": 0.04068,
     "end_time": "2025-04-14T20:15:43.663687",
     "exception": false,
     "start_time": "2025-04-14T20:15:43.623007",
     "status": "completed"
    },
    "tags": []
   },
   "outputs": [
    {
     "name": "stdout",
     "output_type": "stream",
     "text": [
      "---\n",
      "config:\n",
      "  flowchart:\n",
      "    curve: linear\n",
      "---\n",
      "graph TD;\n",
      "\t__start__([<p>__start__</p>]):::first\n",
      "\tagent(agent)\n",
      "\t__end__([<p>__end__</p>]):::last\n",
      "\t__start__ --> agent;\n",
      "\tagent --> __end__;\n",
      "\tclassDef default fill:#f2f0ff,line-height:1.2\n",
      "\tclassDef first fill-opacity:0\n",
      "\tclassDef last fill:#bfb6fc\n",
      "\n"
     ]
    }
   ],
   "source": [
    "# Check for structure in a text form\n",
    "print(graph.get_graph().draw_mermaid())"
   ]
  },
  {
   "cell_type": "markdown",
   "id": "46810e34",
   "metadata": {
    "papermill": {
     "duration": 0.01092,
     "end_time": "2025-04-14T20:15:43.686689",
     "exception": false,
     "start_time": "2025-04-14T20:15:43.675769",
     "status": "completed"
    },
    "tags": []
   },
   "source": [
    "### 4.3 Example interactions with the agent"
   ]
  },
  {
   "cell_type": "code",
   "execution_count": 27,
   "id": "e63e0daf",
   "metadata": {
    "execution": {
     "iopub.execute_input": "2025-04-14T20:15:43.710647Z",
     "iopub.status.busy": "2025-04-14T20:15:43.710180Z",
     "iopub.status.idle": "2025-04-14T20:15:45.257714Z",
     "shell.execute_reply": "2025-04-14T20:15:45.256487Z"
    },
    "papermill": {
     "duration": 1.562416,
     "end_time": "2025-04-14T20:15:45.260124",
     "exception": false,
     "start_time": "2025-04-14T20:15:43.697708",
     "status": "completed"
    },
    "tags": []
   },
   "outputs": [
    {
     "name": "stdout",
     "output_type": "stream",
     "text": [
      "Debug: Invoking tool search_recipes_tool_wrapper with args=('ingredients: zucchini, tofu | diet: Hashimoto',), kwargs={}\n",
      "Tool search_recipes_tool_wrapper \n"
     ]
    },
    {
     "name": "stderr",
     "output_type": "stream",
     "text": [
      "100%|██████████| 1/1 [00:00<00:00,  3.21it/s]\n"
     ]
    },
    {
     "name": "stdout",
     "output_type": "stream",
     "text": [
      "Debug: Tool search_recipes_tool_wrapper returned Sautéed Zucchini  (distance: 0.40)\n",
      "Ingredients: sautéed zucchini . ingredients: 1 medium zucchini, 2 tablespoons toasted sesame oil, kosher salt, freshly ground black pepper, gochugaru (coarse korean red pepper powder)\n",
      "\n",
      "Grilled Vegetable Salad with Tofu  (distance: 0.41)\n",
      "Ingredients: grilled vegetable salad with tofu . ingredients: 1 zucchini, halved lengthwise, 1 ear corn, husked, 1 bunch asparagus (about 16 pencil-thin spears), ends trimmed, 1 4-ounces firm tofu, cut into 2 1/2-inch slices, 4 scallions, olive oil cooking spray, 1 cup mixed greens, 1 romaine heart, chopped, 1/4 avocado, cut into bite-size chunks, 1 vine-ripened tomato, cut into bite-size chunks, 1 teaspoon dijon mustard, 1 teaspoon fresh lemon juice, 1 teaspoon fresh lime juice, 1/2 teaspoon white wine vinegar, 1/2 cup extra-virgin olive oil\n",
      "\n",
      "Grilled Zucchini  (distance: 0.43)\n",
      "Ingredients: grilled zucchini . ingredients: 3 large zucchini cut into 1/2-inch-thick slices, 3 tablespoons olive oil, 2 tablespoons chopped fresh oregano or 2 teaspoons dried, crumbled, 2 garlic cloves, minced, 1 teaspoon chopped fresh rosemary or pinch of dried, crumbled\n"
     ]
    }
   ],
   "source": [
    "# RAG check - does model search for recipes in the database?\n",
    "response = graph.invoke({\"messages\": [HumanMessage(content=\"ingredients: zucchini, tofu | diet: Hashimoto\")]} )"
   ]
  },
  {
   "cell_type": "code",
   "execution_count": 28,
   "id": "9b06a251",
   "metadata": {
    "execution": {
     "iopub.execute_input": "2025-04-14T20:15:45.285406Z",
     "iopub.status.busy": "2025-04-14T20:15:45.284990Z",
     "iopub.status.idle": "2025-04-14T20:15:53.018683Z",
     "shell.execute_reply": "2025-04-14T20:15:53.017381Z"
    },
    "papermill": {
     "duration": 7.749257,
     "end_time": "2025-04-14T20:15:53.021163",
     "exception": false,
     "start_time": "2025-04-14T20:15:45.271906",
     "status": "completed"
    },
    "tags": []
   },
   "outputs": [
    {
     "name": "stdout",
     "output_type": "stream",
     "text": [
      "Debug: Invoking tool <lambda> with args=('title: Grilled Vegetable Salad with Tofu | ingredients: 1 zucchini, halved lengthwise, 1 ear corn, husked, 1 bunch asparagus (about 16 pencil-thin spears), ends trimmed, 1 4-ounces firm tofu, cut into 2 1/2-inch slices, 4 scallions, olive oil cooking spray, 1 cup mixed greens, 1 romaine heart, chopped, 1/4 avocado, cut into bite-size chunks, 1 vine-ripened tomato, cut into bite-size chunks, 1 teaspoon dijon mustard, 1 teaspoon fresh lemon juice, 1 teaspoon fresh lime juice, 1/2 teaspoon white wine vinegar, 1/2 cup extra-virgin olive oil | directions: unknown | diet: High-Protein',), kwargs={}\n",
      "Tool adapt_recipe_to_diet_wrapper \n",
      "Tool adapt_recipe_to_diet \n",
      "Debug: Tool <lambda> returned Okay, here's a revised recipe for a High-Protein Grilled Vegetable Salad, focusing on boosting the protein content while keeping it delicious and healthy:\n",
      "\n",
      "**Title: High-Protein Grilled Vegetable and Tofu Salad with Lemon-Herb Dressing**\n",
      "\n",
      "**Focus:** This recipe increases protein by using a higher-protein tofu, adding grilled halloumi cheese, and incorporating protein-rich seeds. The dressing is adjusted for a lighter, brighter flavor that complements the grilled vegetables and protein sources.\n",
      "\n",
      "**Ingredients:**\n",
      "\n",
      "*   **Protein Boost:**\n",
      "    *   1 (14-ounce) package **extra-firm tofu**, pressed to remove excess water and cut into 1/2-inch slices (Important: Extra-firm has more protein than firm)\n",
      "    *   4 oz **Halloumi cheese**, cut into 1/4-inch slices (for grilling - optional, but adds protein and delicious flavor)\n",
      "    *   2 tablespoons **pumpkin seeds** (pepitas)\n",
      "    *   2 tablespoons **sunflower seeds**\n",
      "\n",
      "*   **Grilled Vegetables:**\n",
      "    *   1 zucchini, halved lengthwise\n",
      "    *   1 red bell pepper, quartered and seeded\n",
      "    *   1 ear of corn, husked\n",
      "    *   1 bunch asparagus (about 16 spears), ends trimmed\n",
      "    *   4 scallions, trimmed\n",
      "\n",
      "*   **Salad Base:**\n",
      "    *   2 cups mixed greens (spinach, kale, and arugula mix recommended for added nutrients)\n",
      "    *   1 romaine heart, chopped\n",
      "    *   1/2 avocado, cut into bite-sized chunks\n",
      "    *   1 vine-ripened tomato, cut into bite-sized chunks\n",
      "\n",
      "*   **Lemon-Herb Dressing:**\n",
      "    *   2 tablespoons extra-virgin olive oil\n",
      "    *   2 tablespoons fresh lemon juice\n",
      "    *   1 tablespoon fresh lime juice\n",
      "    *   1 teaspoon Dijon mustard\n",
      "    *   1 clove garlic, minced\n",
      "    *   1 tablespoon chopped fresh herbs (parsley, cilantro, or dill)\n",
      "    *   Salt and freshly ground black pepper to taste\n",
      "\n",
      "**Instructions:**\n",
      "\n",
      "1.  **Prepare the Tofu and Halloumi:** Press the tofu for at least 30 minutes to remove excess water. This helps it grill better. Pat dry. Slice the halloumi cheese.\n",
      "\n",
      "2.  **Marinate Tofu:** In a shallow dish, whisk together 1 tablespoon of olive oil, 1 tablespoon of lemon juice, minced garlic, salt, and pepper. Add the tofu slices and let marinate for at least 15 minutes.\n",
      "\n",
      "3.  **Prepare Vegetables:** Lightly brush the zucchini, bell pepper, corn, asparagus, and scallions with olive oil cooking spray or a small amount of olive oil. Season with salt and pepper.\n",
      "\n",
      "4.  **Grill the Protein:** Preheat your grill to medium heat. Grill the tofu slices for 3-4 minutes per side, until golden brown and slightly crispy. Grill the Halloumi for 2-3 minutes per side or until golden brown and slightly softened.  Remove from grill and set aside.\n",
      "\n",
      "5.  **Grill the Vegetables:** Grill the zucchini and bell pepper cut-side down for 5-7 minutes, until tender and slightly charred. Grill the corn, turning occasionally, for 8-10 minutes, until kernels are tender and slightly charred. Grill the asparagus and scallions for 3-5 minutes, until tender-crisp. Remove from grill and let cool slightly.\n",
      "\n",
      "6.  **Prepare the Dressing:** In a small bowl, whisk together the remaining olive oil, lemon juice, lime juice, Dijon mustard, minced garlic, chopped fresh herbs, salt, and pepper. Taste and adjust seasonings as needed.\n",
      "\n",
      "7.  **Assemble the Salad:** In a large bowl, combine the mixed greens and chopped romaine. Add the grilled vegetables (cut into bite-sized pieces, if desired), avocado chunks, and tomato chunks. Crumble the grilled Halloumi (if using) over the salad. Sprinkle with pumpkin and sunflower seeds.\n",
      "\n",
      "8.  **Dress and Serve:** Pour the dressing over the salad and toss gently to coat. Arrange the grilled tofu slices on top of the salad. Serve immediately.\n",
      "\n",
      "**Nutritional Considerations & Adjustments:**\n",
      "\n",
      "*   **Tofu:** Choose extra-firm tofu, as it has a higher protein content than softer varieties.\n",
      "*   **Seeds:** Pumpkin and sunflower seeds add extra protein, healthy fats, and fiber.\n",
      "*   **Halloumi:** Adds a salty, savory flavor and a protein boost.\n",
      "*   **Healthy Fats:** Avocado provides healthy fats. Be mindful of portion size.\n",
      "*   **Lean Protein:** The tofu and optional halloumi provide a good source of lean protein.\n",
      "*   **Dressing:** The lemon-herb dressing is lighter and lower in calories than the original recipe.\n",
      "*   **Portion Control:** Be mindful of portion sizes, especially for avocado and dressing, to maintain a healthy calorie balance.\n",
      "*   **Optional additions:** Consider adding other high-protein ingredients like cooked quinoa or lentils for even more protein and fiber. You could also add grilled chicken or fish if you prefer.\n",
      "\n",
      "Enjoy this delicious and protein-packed salad!\n",
      "\n"
     ]
    }
   ],
   "source": [
    "# AI generation: adapting recipe\n",
    "user_input = \"\"\"Get the recipe for Grilled Vegetable Salad with Tofu. Ingredients: grilled vegetable salad with tofu . ingredients: 1 zucchini, \n",
    "halved lengthwise, 1 ear corn, husked, 1 bunch asparagus (about 16 pencil-thin spears), ends trimmed, 1 4-ounces firm tofu, cut into \n",
    "2 1/2-inch slices, 4 scallions, olive oil cooking spray, 1 cup mixed greens, 1 romaine heart, chopped, 1/4 avocado, cut into bite-size chunks, \n",
    "1 vine-ripened tomato, cut into bite-size chunks, 1 teaspoon dijon mustard, 1 teaspoon fresh lemon juice, 1 teaspoon fresh lime juice, \n",
    "1/2 teaspoon white wine vinegar, 1/2 cup extra-virgin olive oil\n",
    "Please adapt it to a High-Protein diet with chicken.\"\"\"\n",
    "\n",
    "response = graph.invoke(\n",
    "    {\"messages\": [HumanMessage(content=user_input)]})"
   ]
  },
  {
   "cell_type": "code",
   "execution_count": 29,
   "id": "58a62b35",
   "metadata": {
    "execution": {
     "iopub.execute_input": "2025-04-14T20:15:53.047188Z",
     "iopub.status.busy": "2025-04-14T20:15:53.046751Z",
     "iopub.status.idle": "2025-04-14T20:15:58.192790Z",
     "shell.execute_reply": "2025-04-14T20:15:58.191542Z"
    },
    "papermill": {
     "duration": 5.161711,
     "end_time": "2025-04-14T20:15:58.195007",
     "exception": false,
     "start_time": "2025-04-14T20:15:53.033296",
     "status": "completed"
    },
    "tags": []
   },
   "outputs": [
    {
     "name": "stdout",
     "output_type": "stream",
     "text": [
      "Debug: Invoking tool <lambda> with args=('diet: High-Protein',), kwargs={}\n",
      "Tool generate_meal_plan_wrapper \n",
      "Tool generate_meal_plan \n",
      "Debug: Tool <lambda> returned Okay, here is a one-day high-protein meal plan, designed to be relatively simple and easy to prepare.  Remember to adjust portion sizes based on your individual caloric needs and activity level.\n",
      "\n",
      "**Meal Type: Breakfast - Protein Power Oatmeal** - Oatmeal prepared with milk (dairy or unsweetened almond milk), mixed with a scoop of protein powder (whey, casein, or plant-based), topped with a handful of berries and a sprinkle of chopped nuts.\n",
      "\n",
      "**Meal Type: Snack - Greek Yogurt with Almonds** - Plain Greek yogurt (choose a high-protein option) topped with a serving of almonds.\n",
      "\n",
      "**Meal Type: Lunch - Grilled Chicken Salad** - Grilled chicken breast sliced over a bed of mixed greens, with chopped vegetables (cucumber, bell peppers, tomatoes), and a light vinaigrette dressing.\n",
      "\n",
      "**Meal Type: Snack - Hard-Boiled Eggs** - Two hard-boiled eggs. A simple and portable protein source.\n",
      "\n",
      "**Meal Type: Dinner - Baked Salmon with Roasted Asparagus** - Baked salmon fillet seasoned with herbs and lemon, served with roasted asparagus.\n",
      "\n",
      "**Important Considerations:**\n",
      "\n",
      "*   **Hydration:** Drink plenty of water throughout the day.\n",
      "*   **Variety:** While this is a sample plan, try to vary your protein sources and vegetables for optimal nutrition.\n",
      "*   **Fiber:** Ensure you're getting enough fiber from vegetables, fruits, and whole grains (like the oats in the breakfast) for digestive health.\n",
      "*   **Individual Needs:** This is a general guide. Consider consulting with a registered dietitian or healthcare professional to create a meal plan tailored to your specific dietary needs, goals, and any underlying health conditions.\n",
      "*   **Macronutrient ratios:** This meal plan aims to be high in protein, but you should adjust the other macronutrients (carbs and fats) based on your overall caloric needs and goals.\n",
      "*   **Supplementation:** If you are struggling to get enough protein from food alone, you may consider using protein supplements.\n",
      "\n"
     ]
    }
   ],
   "source": [
    "# generating meal plan for a whole day:\n",
    "user_input = \"diet: High-Protein\"\n",
    "\n",
    "response = graph.invoke(\n",
    "    {\"messages\": [HumanMessage(content=user_input)]}\n",
    ")"
   ]
  },
  {
   "cell_type": "code",
   "execution_count": 30,
   "id": "9aeab609",
   "metadata": {
    "execution": {
     "iopub.execute_input": "2025-04-14T20:15:58.284768Z",
     "iopub.status.busy": "2025-04-14T20:15:58.284438Z",
     "iopub.status.idle": "2025-04-14T20:16:03.118180Z",
     "shell.execute_reply": "2025-04-14T20:16:03.116970Z"
    },
    "papermill": {
     "duration": 4.849519,
     "end_time": "2025-04-14T20:16:03.120315",
     "exception": false,
     "start_time": "2025-04-14T20:15:58.270796",
     "status": "completed"
    },
    "tags": []
   },
   "outputs": [
    {
     "name": "stdout",
     "output_type": "stream",
     "text": [
      "Debug: Invoking tool <lambda> with args=('title: Grilled Vegetable Salad with Tofu | ingredients: zucchini, corn, asparagus, tofu, scallions, greens, romaine, avocado, tomato, mustard, lemon juice, lime juice, vinegar, olive oil | diet: Hashimoto',), kwargs={}\n",
      "Debug: Tool <lambda> returned This recipe is **mostly compatible** with a Hashimoto's diet, but with a few potential modifications depending on individual sensitivities. Here's the breakdown:\n",
      "\n",
      "*   **Good:**\n",
      "\n",
      "    *   **Most Vegetables (zucchini, asparagus, romaine, avocado, tomato, scallions, greens):** These are generally considered safe and beneficial for Hashimoto's, providing vitamins, minerals, and fiber.\n",
      "    *   **Tofu:** Tofu can be problematic for some with Hashimoto's due to the soy content. However, it's generally considered fine for those who don't have soy sensitivities.\n",
      "    *   **Olive Oil:** A healthy fat source and anti-inflammatory.\n",
      "    *   **Lemon and Lime Juice:** Safe and beneficial.\n",
      "    *   **Mustard:** As long as it doesn't contain any gluten, soy, or other problematic additives, mustard is generally okay.\n",
      "    *   **Vinegar:** Usually safe, but some people with sensitivities might react to certain types. Apple cider vinegar is often a preferred choice.\n",
      "\n",
      "*   **Potentially Problematic:**\n",
      "\n",
      "    *   **Corn:** Corn is often avoided on a Hashimoto's diet due to its potential inflammatory properties and because it can be a common allergen. Consider replacing it with another vegetable like bell peppers.\n",
      "    *   **Tofu:** As mentioned, soy sensitivity is common in people with Hashimoto's. Monitor for any negative reactions after consuming tofu. If you suspect a problem, eliminate it.\n",
      "\n",
      "**Reasoning:**\n",
      "\n",
      "A Hashimoto's diet typically focuses on reducing inflammation and avoiding common trigger foods. The core of this recipe is vegetables, which are generally beneficial. However, corn is a common exclusion, and soy (in tofu) can be problematic for some. The other ingredients are usually considered safe unless specific sensitivities exist.\n",
      "\n",
      "**Recommendations:**\n",
      "\n",
      "1.  **Omit the corn.**\n",
      "2.  **Use gluten-free, soy-free mustard.**\n",
      "3.  **If you know you're sensitive to soy, replace the tofu with a different protein source,** like grilled chicken or fish (assuming no seafood sensitivities).\n",
      "4.  **Use apple cider vinegar.**\n",
      "5.  **Monitor your body's reaction.** Pay attention to how you feel after eating this salad. If you experience any symptoms like bloating, fatigue, or joint pain, consider eliminating other ingredients one at a time to identify any potential sensitivities.\n",
      "\n"
     ]
    }
   ],
   "source": [
    "# testing diet_explanation_tool\n",
    "user_input = \"\"\"title: Grilled Vegetable Salad with Tofu | \n",
    "ingredients: zucchini, corn, asparagus, tofu, scallions, greens, romaine, avocado, tomato, mustard, lemon juice, lime juice, vinegar, olive oil | \n",
    "diet: Hashimoto\"\"\"\n",
    "\n",
    "response = graph.invoke(\n",
    "    {\"messages\": [HumanMessage(content=user_input)]}\n",
    ")"
   ]
  },
  {
   "cell_type": "markdown",
   "id": "9daf36d1",
   "metadata": {
    "papermill": {
     "duration": 0.011816,
     "end_time": "2025-04-14T20:16:03.144469",
     "exception": false,
     "start_time": "2025-04-14T20:16:03.132653",
     "status": "completed"
    },
    "tags": []
   },
   "source": [
    "## 💡 5. Conversational Reasoning and Personalization\n",
    "\n",
    "This section demonstrates how the AI Meal Coach agent engages in multi-turn conversation with memory and reasoning. We extend the agent's internal graph to support iterative reasoning and dynamic tool usage by adding routing and tool-execution logic."
   ]
  },
  {
   "cell_type": "markdown",
   "id": "80f990d6",
   "metadata": {
    "papermill": {
     "duration": 0.013447,
     "end_time": "2025-04-14T20:16:03.170750",
     "exception": false,
     "start_time": "2025-04-14T20:16:03.157303",
     "status": "completed"
    },
    "tags": []
   },
   "source": [
    "### 5.1 LangGraph Agent: Reasoning Loop and Tool Handling"
   ]
  },
  {
   "cell_type": "code",
   "execution_count": 31,
   "id": "dd944a7f",
   "metadata": {
    "execution": {
     "iopub.execute_input": "2025-04-14T20:16:03.198054Z",
     "iopub.status.busy": "2025-04-14T20:16:03.197664Z",
     "iopub.status.idle": "2025-04-14T20:16:03.203304Z",
     "shell.execute_reply": "2025-04-14T20:16:03.201929Z"
    },
    "papermill": {
     "duration": 0.021139,
     "end_time": "2025-04-14T20:16:03.205223",
     "exception": false,
     "start_time": "2025-04-14T20:16:03.184084",
     "status": "completed"
    },
    "tags": []
   },
   "outputs": [],
   "source": [
    "from langchain_core.messages import BaseMessage, ToolCall, ToolMessage\n",
    "\n",
    "# change of agent state, so it tracks tool_calls and messages\n",
    "class AgentState(TypedDict):\n",
    "    messages: List[BaseMessage]\n",
    "    tool_calls: Optional[List[ToolCall]]\n",
    "\n"
   ]
  }
 ],
 "metadata": {
  "kaggle": {
   "accelerator": "none",
   "dataSources": [
    {
     "datasetId": 588,
     "sourceId": 1569,
     "sourceType": "datasetVersion"
    }
   ],
   "dockerImageVersionId": 30918,
   "isGpuEnabled": false,
   "isInternetEnabled": true,
   "language": "python",
   "sourceType": "notebook"
  },
  "kernelspec": {
   "display_name": "Python 3",
   "language": "python",
   "name": "python3"
  },
  "language_info": {
   "codemirror_mode": {
    "name": "ipython",
    "version": 3
   },
   "file_extension": ".py",
   "mimetype": "text/x-python",
   "name": "python",
   "nbconvert_exporter": "python",
   "pygments_lexer": "ipython3",
   "version": "3.10.12"
  },
  "papermill": {
   "default_parameters": {},
   "duration": 107.283623,
   "end_time": "2025-04-14T20:16:06.482134",
   "environment_variables": {},
   "exception": null,
   "input_path": "__notebook__.ipynb",
   "output_path": "__notebook__.ipynb",
   "parameters": {},
   "start_time": "2025-04-14T20:14:19.198511",
   "version": "2.6.0"
  }
 },
 "nbformat": 4,
 "nbformat_minor": 5
}
